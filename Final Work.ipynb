{
 "cells": [
  {
   "cell_type": "markdown",
   "metadata": {},
   "source": [
    "# Topic : Students Performance Analysis"
   ]
  },
  {
   "cell_type": "markdown",
   "metadata": {},
   "source": [
    "Data taken from url - https://www.kaggle.com/spscientist/students-performance-in-exams/version/1"
   ]
  },
  {
   "cell_type": "markdown",
   "metadata": {},
   "source": [
    "This data set consists of the marks secured by the students in various subjects."
   ]
  },
  {
   "cell_type": "code",
   "execution_count": 1,
   "metadata": {},
   "outputs": [
    {
     "name": "stdout",
     "output_type": "stream",
     "text": [
      "Populating the interactive namespace from numpy and matplotlib\n"
     ]
    }
   ],
   "source": [
    "%pylab inline\n",
    "%matplotlib inline\n",
    "from scipy.stats import t\n",
    "import matplotlib.pyplot as plt\n",
    "import numpy as np\n",
    "import pandas as pd\n",
    "from ipywidgets import interactive,interact,fixed,interact_manual  #Getting all the necessary stuff imported"
   ]
  },
  {
   "cell_type": "code",
   "execution_count": 2,
   "metadata": {},
   "outputs": [],
   "source": [
    "data = pd.read_csv('StudentsPerformance.csv') #Getting the data into this jupyter notebook"
   ]
  },
  {
   "cell_type": "code",
   "execution_count": 3,
   "metadata": {
    "scrolled": true
   },
   "outputs": [
    {
     "data": {
      "text/html": [
       "<div>\n",
       "<style scoped>\n",
       "    .dataframe tbody tr th:only-of-type {\n",
       "        vertical-align: middle;\n",
       "    }\n",
       "\n",
       "    .dataframe tbody tr th {\n",
       "        vertical-align: top;\n",
       "    }\n",
       "\n",
       "    .dataframe thead th {\n",
       "        text-align: right;\n",
       "    }\n",
       "</style>\n",
       "<table border=\"1\" class=\"dataframe\">\n",
       "  <thead>\n",
       "    <tr style=\"text-align: right;\">\n",
       "      <th></th>\n",
       "      <th>gender</th>\n",
       "      <th>race/ethnicity</th>\n",
       "      <th>parental level of education</th>\n",
       "      <th>lunch</th>\n",
       "      <th>test preparation</th>\n",
       "      <th>math score</th>\n",
       "      <th>reading score</th>\n",
       "      <th>writing score</th>\n",
       "    </tr>\n",
       "  </thead>\n",
       "  <tbody>\n",
       "    <tr>\n",
       "      <th>0</th>\n",
       "      <td>female</td>\n",
       "      <td>group B</td>\n",
       "      <td>bachelor's degree</td>\n",
       "      <td>standard</td>\n",
       "      <td>none</td>\n",
       "      <td>72</td>\n",
       "      <td>72</td>\n",
       "      <td>74</td>\n",
       "    </tr>\n",
       "    <tr>\n",
       "      <th>1</th>\n",
       "      <td>female</td>\n",
       "      <td>group C</td>\n",
       "      <td>some college</td>\n",
       "      <td>standard</td>\n",
       "      <td>completed</td>\n",
       "      <td>69</td>\n",
       "      <td>90</td>\n",
       "      <td>88</td>\n",
       "    </tr>\n",
       "    <tr>\n",
       "      <th>2</th>\n",
       "      <td>female</td>\n",
       "      <td>group B</td>\n",
       "      <td>master's degree</td>\n",
       "      <td>standard</td>\n",
       "      <td>none</td>\n",
       "      <td>90</td>\n",
       "      <td>95</td>\n",
       "      <td>93</td>\n",
       "    </tr>\n",
       "    <tr>\n",
       "      <th>3</th>\n",
       "      <td>male</td>\n",
       "      <td>group A</td>\n",
       "      <td>associate's degree</td>\n",
       "      <td>free/reduced</td>\n",
       "      <td>none</td>\n",
       "      <td>47</td>\n",
       "      <td>57</td>\n",
       "      <td>44</td>\n",
       "    </tr>\n",
       "    <tr>\n",
       "      <th>4</th>\n",
       "      <td>male</td>\n",
       "      <td>group C</td>\n",
       "      <td>some college</td>\n",
       "      <td>standard</td>\n",
       "      <td>none</td>\n",
       "      <td>76</td>\n",
       "      <td>78</td>\n",
       "      <td>75</td>\n",
       "    </tr>\n",
       "  </tbody>\n",
       "</table>\n",
       "</div>"
      ],
      "text/plain": [
       "   gender race/ethnicity parental level of education         lunch  \\\n",
       "0  female        group B           bachelor's degree      standard   \n",
       "1  female        group C                some college      standard   \n",
       "2  female        group B             master's degree      standard   \n",
       "3    male        group A          associate's degree  free/reduced   \n",
       "4    male        group C                some college      standard   \n",
       "\n",
       "  test preparation  math score  reading score  writing score  \n",
       "0             none          72             72             74  \n",
       "1        completed          69             90             88  \n",
       "2             none          90             95             93  \n",
       "3             none          47             57             44  \n",
       "4             none          76             78             75  "
      ]
     },
     "execution_count": 3,
     "metadata": {},
     "output_type": "execute_result"
    }
   ],
   "source": [
    "data.head()"
   ]
  },
  {
   "cell_type": "markdown",
   "metadata": {},
   "source": [
    "# Distribution of marks"
   ]
  },
  {
   "cell_type": "code",
   "execution_count": 4,
   "metadata": {
    "scrolled": false
   },
   "outputs": [
    {
     "data": {
      "text/plain": [
       "Text(0, 0.5, 'Frequency')"
      ]
     },
     "execution_count": 4,
     "metadata": {},
     "output_type": "execute_result"
    },
    {
     "data": {
      "image/png": "[encoded data removed]",
      "text/plain": [
       "<Figure size 432x288 with 1 Axes>"
      ]
     },
     "metadata": {
      "needs_background": "light"
     },
     "output_type": "display_data"
    },
    {
     "data": {
      "image/png": "[encoded data removed]",
      "text/plain": [
       "<Figure size 432x288 with 1 Axes>"
      ]
     },
     "metadata": {
      "needs_background": "light"
     },
     "output_type": "display_data"
    },
    {
     "data": {
      "image/png": "[encoded data removed]",
      "text/plain": [
       "<Figure size 432x288 with 1 Axes>"
      ]
     },
     "metadata": {
      "needs_background": "light"
     },
     "output_type": "display_data"
    }
   ],
   "source": [
    "plt.hist(data['math score'],bins = 15,color='#0504aa',rwidth=0.85)\n",
    "plt.title('Maths marks histogram')\n",
    "plt.xlabel('Marks')\n",
    "plt.ylabel('Frequency')\n",
    "\n",
    "plt.figure()\n",
    "plt.hist(data['reading score'],bins = 15,color='#0504aa',rwidth=0.85)\n",
    "plt.title('Reading marks histogram')\n",
    "plt.xlabel('Marks')\n",
    "plt.ylabel('Frequency')\n",
    "\n",
    "plt.figure()\n",
    "plt.hist(data['writing score'],bins = 15,color='#0504aa',rwidth=0.85)\n",
    "plt.title('Writing marks histogram')\n",
    "plt.xlabel('Marks')\n",
    "plt.ylabel('Frequency')"
   ]
  },
  {
   "cell_type": "markdown",
   "metadata": {},
   "source": [
    "# Question 1 : How effective is the factor test preparation?"
   ]
  },
  {
   "cell_type": "code",
   "execution_count": 5,
   "metadata": {
    "scrolled": false
   },
   "outputs": [
    {
     "data": {
      "text/plain": [
       "<matplotlib.axes._subplots.AxesSubplot at 0x1ce38f0df98>"
      ]
     },
     "execution_count": 5,
     "metadata": {},
     "output_type": "execute_result"
    },
    {
     "data": {
      "image/png": "[encoded data removed]",
      "text/plain": [
       "<Figure size 432x288 with 1 Axes>"
      ]
     },
     "metadata": {
      "needs_background": "light"
     },
     "output_type": "display_data"
    },
    {
     "data": {
      "image/png": "[encoded data removed]",
      "text/plain": [
       "<Figure size 432x288 with 1 Axes>"
      ]
     },
     "metadata": {
      "needs_background": "light"
     },
     "output_type": "display_data"
    }
   ],
   "source": [
    "plt.title(\"Test preparation is none\")\n",
    "df1 = data[data['test preparation'] == 'none']\n",
    "df1.boxplot(column = ['math score', 'reading score', 'writing score'], grid = True, patch_artist=True, showmeans=True)\n",
    "\n",
    "plt.figure()\n",
    "plt.title(\"test preparation is completed\")\n",
    "df1 = data[data['test preparation'] == 'completed']\n",
    "df1.boxplot(column = ['math score', 'reading score', 'writing score'], grid = True, patch_artist=True, showmeans=True)"
   ]
  },
  {
   "cell_type": "markdown",
   "metadata": {},
   "source": [
    "# Hypothesis Testing"
   ]
  },
  {
   "cell_type": "code",
   "execution_count": 7,
   "metadata": {
    "scrolled": true
   },
   "outputs": [
    {
     "data": {
      "application/vnd.jupyter.widget-view+json": {
       "model_id": "6380ae005de34227ab2c7350a2ad17ac",
       "version_major": 2,
       "version_minor": 0
      },
      "text/plain": [
       "interactive(children=(Dropdown(description='subject', options=('math score', 'reading score', 'writing score')…"
      ]
     },
     "metadata": {},
     "output_type": "display_data"
    },
    {
     "data": {
      "text/plain": [
       "<function __main__.increase_in_marks_due_to_test_preparation(subject)>"
      ]
     },
     "execution_count": 7,
     "metadata": {},
     "output_type": "execute_result"
    }
   ],
   "source": [
    "def increase_in_marks_due_to_test_preparation(subject):\n",
    "    print('Null Hypothesis = test preparation does not affect the',subject,'i.e. mu(',subject,'for completed preparation) = mu(',subject,'for none completed preparation)')\n",
    "    print()\n",
    "    print('Alternate Hypothesis = completed test preparation increases the',subject,'i.e. mu(',subject,'for completed preparation) > mu(',subject,'for none completed preparation)')\n",
    "    print()\n",
    "    \n",
    "    avg_marks_for_completed_preparation = data[data['test preparation'] == 'completed'][subject].mean()\n",
    "    std_marks_for_completed_preparation = data[data['test preparation'] == 'completed'][subject].std()\n",
    "    numc = len(data[data['test preparation'] == 'completed'][subject])\n",
    "\n",
    "    avg_marks_for_none_preparation = data[data['test preparation'] == 'none'][subject].mean()\n",
    "    std_marks_for_none_preparation = data[data['test preparation'] == 'none'][subject].std()\n",
    "    numn = len(data[data['test preparation'] == 'none'][subject])\n",
    "\n",
    "    X_bar = np.average(avg_marks_for_completed_preparation) - np.average(avg_marks_for_none_preparation)\n",
    "    var = ((numc-1)*(std_marks_for_completed_preparation ** 2) + (numn-1)*(std_marks_for_none_preparation ** 2))/998\n",
    "    std = np.sqrt(var)\n",
    "\n",
    "    t = X_bar/np.sqrt(var*((1/numc) + (1/numn)))\n",
    "    print('t =',t)\n",
    "    print()\n",
    "    \n",
    "    print('We have taken alpha to be 0.05, so as t > 1.96 so we can reject the null hypothesis and as t value is large so having test preparation completed can improve students scores.')\n",
    "    \n",
    "interact(increase_in_marks_due_to_test_preparation, subject = ['math score', 'reading score', 'writing score'])"
   ]
  },
  {
   "cell_type": "markdown",
   "metadata": {},
   "source": [
    "# Conclusion \n",
    "\n",
    "We got a t-value large enough so that we can reject the null hypothesis and it shows that students with completed test preparation tends to have more marks."
   ]
  },
  {
   "cell_type": "markdown",
   "metadata": {},
   "source": [
    "# Question 2 : Which major factors contribute to test outcomes?"
   ]
  },
  {
   "cell_type": "markdown",
   "metadata": {},
   "source": [
    "# Comparision of average marks based on parental education"
   ]
  },
  {
   "cell_type": "code",
   "execution_count": 8,
   "metadata": {
    "scrolled": true
   },
   "outputs": [
    {
     "name": "stdout",
     "output_type": "stream",
     "text": [
      "Average mark of students whose parents who finished till Schooling:- 65.10800744878958\n",
      "Average mark of students whose parents finished till College:- 68.47640117994102\n",
      "Average mark of students whose parents finished Associates degree:- 69.56906906906907\n",
      "Average mark of students whose parents finished Bachelers degree:- 71.92372881355932\n",
      "Average mark of students whose parents finished Masters degree:- 73.59887005649718\n"
     ]
    },
    {
     "data": {
      "image/png": "[encoded data removed]",
      "text/plain": [
       "<Figure size 432x288 with 1 Axes>"
      ]
     },
     "metadata": {
      "needs_background": "light"
     },
     "output_type": "display_data"
    },
    {
     "data": {
      "image/png": "[encoded data removed]",
      "text/plain": [
       "<Figure size 432x288 with 1 Axes>"
      ]
     },
     "metadata": {
      "needs_background": "light"
     },
     "output_type": "display_data"
    },
    {
     "data": {
      "image/png": "[encoded data removed]",
      "text/plain": [
       "<Figure size 432x288 with 1 Axes>"
      ]
     },
     "metadata": {
      "needs_background": "light"
     },
     "output_type": "display_data"
    },
    {
     "data": {
      "image/png": "[encoded data removed]",
      "text/plain": [
       "<Figure size 432x288 with 1 Axes>"
      ]
     },
     "metadata": {
      "needs_background": "light"
     },
     "output_type": "display_data"
    }
   ],
   "source": [
    "dataBmaster = data[data[\"parental level of education\"] == \"bachelor's degree\"].drop([\"gender\",\"race/ethnicity\",\"lunch\",\"test preparation\"],axis = 1)\n",
    "Bmath =mean(dataBmaster[\"math score\"])\n",
    "Bread =mean(dataBmaster[\"reading score\"])\n",
    "Bwrite=mean(dataBmaster[\"writing score\"])\n",
    "Btotal=(Bread+Bmath+Bwrite)/3\n",
    "\n",
    "dataMmaster = data[data[\"parental level of education\"] == \"master's degree\"].drop([\"gender\",\"race/ethnicity\",\"lunch\",\"test preparation\"],axis = 1)\n",
    "Mmath =mean(dataMmaster[\"math score\"])\n",
    "Mread =mean(dataMmaster[\"reading score\"])\n",
    "Mwrite=mean(dataMmaster[\"writing score\"])\n",
    "Mtotal=(Mread+Mmath+Mwrite)/3\n",
    "\n",
    "dataHschool = data[data[\"parental level of education\"] == \"high school\"].drop([\"gender\",\"race/ethnicity\",\"lunch\",\"test preparation\"],axis = 1)\n",
    "Hmath =mean(dataHschool[\"math score\"])\n",
    "Hread =mean(dataHschool[\"reading score\"])\n",
    "Hwrite=mean(dataHschool[\"writing score\"])\n",
    "Htotal=(Hread+Hmath+Hwrite)/3\n",
    "\n",
    "dataSschool = data[data[\"parental level of education\"] == \"some high school\"].drop([\"gender\",\"race/ethnicity\",\"lunch\",\"test preparation\"],axis = 1)\n",
    "Smath =mean(dataSschool[\"math score\"])\n",
    "Sread =mean(dataSschool[\"reading score\"])\n",
    "Swrite=mean(dataSschool[\"writing score\"])\n",
    "Stotal=(Sread+Smath+Swrite)/3\n",
    "\n",
    "dataCollege = data[data[\"parental level of education\"] == \"some college\"].drop([\"gender\",\"race/ethnicity\",\"lunch\",\"test preparation\"],axis = 1)\n",
    "Cmath =mean(dataCollege[\"math score\"])\n",
    "Cread =mean(dataCollege[\"reading score\"])\n",
    "Cwrite=mean(dataCollege[\"writing score\"])\n",
    "Ctotal=(Cread+Cmath+Cwrite)/3\n",
    "\n",
    "dataAdegree = data[data[\"parental level of education\"] == \"associate's degree\"].drop([\"gender\",\"race/ethnicity\",\"lunch\",\"test preparation\"],axis = 1)\n",
    "Amath =mean(dataAdegree[\"math score\"])\n",
    "Aread =mean(dataAdegree[\"reading score\"])\n",
    "Awrite=mean(dataAdegree[\"writing score\"])\n",
    "Atotal=(Aread+Amath+Awrite)/3\n",
    "\n",
    "a=len(dataHschool)\n",
    "b=len(dataSschool)\n",
    "SCmath=(a*Hmath+b*Smath)/(a+b)\n",
    "SCread=(a*Hread+b*Sread)/(a+b)\n",
    "SCwrite=(a*Hwrite+b*Swrite)/(a+b)\n",
    "SCtotal=(a*Htotal+b*Stotal)/(a+b)\n",
    "\n",
    "df=pd.DataFrame({'Parents education':['School','College','Associate','Bachelors','Masters'],'Math scores':[SCmath,Cmath,Amath,Bmath,Mmath]})\n",
    "df.plot.line(x='Parents education',y='Math scores',rot=0,style='o')\n",
    "plt.ylabel('Marks')\n",
    "\n",
    "df=pd.DataFrame({'Parents education':['School','College','Associate','Bachelors','Masters'],'Reading scores':[SCread,Cread,Aread,Bread,Mread]})\n",
    "df.plot.line(x='Parents education',y='Reading scores',rot=0,style='o')\n",
    "plt.ylabel('Marks')\n",
    "\n",
    "df=pd.DataFrame({'Parents education':['School','College','Associate','Bachelors','Masters'],'Writing scores':[SCwrite,Cwrite,Awrite,Bwrite,Mwrite]})\n",
    "df.plot.line(x='Parents education',y='Writing scores',rot=0,style='o')\n",
    "plt.ylabel('Marks')\n",
    "\n",
    "df=pd.DataFrame({'Parents education':['School','College','Associate','Bachelors','Masters'],'Average scores':[SCtotal,Ctotal,Atotal,Btotal,Mtotal]})\n",
    "df.plot.line(x='Parents education',y='Average scores',rot=0,style='o')\n",
    "plt.ylabel('Marks')\n",
    "\n",
    "print('Average mark of students whose parents who finished till Schooling:-',Stotal)\n",
    "print('Average mark of students whose parents finished till College:-',Ctotal)\n",
    "print('Average mark of students whose parents finished Associates degree:-',Atotal)\n",
    "print('Average mark of students whose parents finished Bachelers degree:-',Btotal)\n",
    "print('Average mark of students whose parents finished Masters degree:-',Mtotal)\n",
    "\n",
    "\n"
   ]
  },
  {
   "cell_type": "markdown",
   "metadata": {},
   "source": [
    "# Comparision of average marks based on quality of lunch"
   ]
  },
  {
   "cell_type": "code",
   "execution_count": 9,
   "metadata": {},
   "outputs": [
    {
     "name": "stdout",
     "output_type": "stream",
     "text": [
      "Marks of students who consume free food 62.19906103286385\n",
      "Marks of students who consume standard food 70.83720930232558\n"
     ]
    },
    {
     "data": {
      "image/png": "[encoded data removed]",
      "text/plain": [
       "<Figure size 432x288 with 1 Axes>"
      ]
     },
     "metadata": {
      "needs_background": "light"
     },
     "output_type": "display_data"
    }
   ],
   "source": [
    "dataStandard = data[data[\"lunch\"] == \"standard\"].drop([\"gender\",\"race/ethnicity\",\"parental level of education\",\"test preparation\"],axis = 1)\n",
    "Smath =mean(dataStandard[\"math score\"])\n",
    "Sread =mean(dataStandard[\"reading score\"])\n",
    "Swrite=mean(dataStandard[\"writing score\"])\n",
    "Stotal=(Sread+Smath+Swrite)/3\n",
    "mu1=len(dataStandard)\n",
    "std1=std(dataStandard[\"math score\"])\n",
    "\n",
    "dataFree = data[data[\"lunch\"] == \"free/reduced\"].drop([\"gender\",\"race/ethnicity\",\"parental level of education\",\"test preparation\"],axis = 1)\n",
    "Fmath =mean(dataFree[\"math score\"])\n",
    "Fread =mean(dataFree[\"reading score\"])\n",
    "Fwrite=mean(dataFree[\"writing score\"])\n",
    "Ftotal=(Fread+Fmath+Fwrite)/3\n",
    "b=len(dataFree)\n",
    "std2=std(dataFree[\"math score\"])\n",
    "\n",
    "df=pd.DataFrame({'Lunch':[\"Standard\",\"Free/reduced\"],\"Average score\":[Stotal,Ftotal]})\n",
    "df.plot.bar(x='Lunch',rot=0)\n",
    "\n",
    "print(\"Marks of students who consume free food\",Ftotal)\n",
    "print(\"Marks of students who consume standard food\",Stotal)"
   ]
  },
  {
   "cell_type": "markdown",
   "metadata": {},
   "source": [
    "# Hypothesis testing"
   ]
  },
  {
   "cell_type": "code",
   "execution_count": 10,
   "metadata": {},
   "outputs": [
    {
     "data": {
      "application/vnd.jupyter.widget-view+json": {
       "model_id": "db0554a1057b4dc8943b7064dbd2a650",
       "version_major": 2,
       "version_minor": 0
      },
      "text/plain": [
       "interactive(children=(Dropdown(description='subject', options=('math score', 'reading score', 'writing score')…"
      ]
     },
     "metadata": {},
     "output_type": "display_data"
    },
    {
     "data": {
      "text/plain": [
       "<function __main__.effect_of_lunch_quality_on_marks(subject)>"
      ]
     },
     "execution_count": 10,
     "metadata": {},
     "output_type": "execute_result"
    }
   ],
   "source": [
    "def effect_of_lunch_quality_on_marks(subject):\n",
    "    print('Null Hypothesis = standard lunch does not affect the',subject,'i.e. mu(',subject,'for student taking standard lunch) = mu(',subject,'for student not taking standard lunch')\n",
    "    print()\n",
    "    print('Alternate Hypothesis = standard lunch increases the',subject,'i.e. mu(',subject,'for student taking standard lunch) > mu(',subject,'for student not taking standard lunch)')\n",
    "    print()\n",
    "    \n",
    "    avg_marks_for_standard_lunch = data[data['lunch'] == 'standard'][subject].mean()\n",
    "    std_marks_for_standard_lunch = data[data['lunch'] == 'standard'][subject].std()\n",
    "    nums = len(data[data['lunch'] == 'standard'][subject])\n",
    "\n",
    "    avg_marks_for_not_standard_lunch = data[data['lunch'] == 'free/reduced'][subject].mean()\n",
    "    std_marks_for_not_standard_lunch = data[data['lunch'] == 'free/reduced'][subject].std()\n",
    "    numf = len(data[data['lunch'] == 'free/reduced'][subject])\n",
    "\n",
    "\n",
    "    X_bar = np.average(avg_marks_for_standard_lunch) - np.average(avg_marks_for_not_standard_lunch)\n",
    "    var = ((nums-1)*(std_marks_for_standard_lunch ** 2) + (numf - 1)*(std_marks_for_not_standard_lunch ** 2))/998\n",
    "    std = np.sqrt(var)\n",
    "\n",
    "\n",
    "    t = X_bar/np.sqrt(var*((1/nums)+(1/numf)))\n",
    "    print('t =',t)\n",
    "    print()\n",
    "    \n",
    "    print('We have taken alpha to be 0.05, so as t > 1.96 so we can reject the null hypothesis and as t value is large so taking standard lunch can improve students scores.')\n",
    "    \n",
    "interact(effect_of_lunch_quality_on_marks, subject = ['math score', 'reading score', 'writing score'])"
   ]
  },
  {
   "cell_type": "markdown",
   "metadata": {},
   "source": [
    "# Comparing average scores of the students based on student's preparation"
   ]
  },
  {
   "cell_type": "code",
   "execution_count": 11,
   "metadata": {},
   "outputs": [],
   "source": [
    "grouped=data.groupby('test preparation')\n",
    "PREPARED=grouped.get_group('completed')\n",
    "maths_mean_prepared=PREPARED['math score'].agg(np.mean)\n",
    "reading_mean_prepared=PREPARED['reading score'].agg(np.mean)\n",
    "writing_mean_prepared=PREPARED['writing score'].agg(np.mean)\n",
    "NOT_PREPARED=grouped.get_group('none')\n",
    "maths_mean_not_prepared=NOT_PREPARED['math score'].agg(np.mean)\n",
    "reading_mean_not_prepared=NOT_PREPARED['reading score'].agg(np.mean)\n",
    "writing_mean_not_prepared=NOT_PREPARED['writing score'].agg(np.mean)"
   ]
  },
  {
   "cell_type": "code",
   "execution_count": 12,
   "metadata": {},
   "outputs": [
    {
     "data": {
      "text/plain": [
       "Text(0.5, 1.0, 'COMPARING AVERAGE MARKS OF STUDENTS WHO DID NOT PREPARE Vs WHO PREPARED BEFORE EXAMS')"
      ]
     },
     "execution_count": 12,
     "metadata": {},
     "output_type": "execute_result"
    },
    {
     "data": {
      "image/png": "[encoded data removed]",
      "text/plain": [
       "<Figure size 432x288 with 1 Axes>"
      ]
     },
     "metadata": {
      "needs_background": "light"
     },
     "output_type": "display_data"
    }
   ],
   "source": [
    "A = pd.DataFrame({'SUBJECTS':['Maths','Writing','Reading'], 'SCORE': [maths_mean_not_prepared,writing_mean_not_prepared,reading_mean_not_prepared]})\n",
    "#A.set_index(\"SUBJECTS\",drop=True,inplace=True)\n",
    "B = pd.DataFrame({'SUBJECTS':['Maths','Writing','Reading'], 'SCORE': [maths_mean_prepared,writing_mean_prepared,reading_mean_prepared]})\n",
    "#B.set_index(\"SUBJECTS\",drop=True,inplace=True)\n",
    "pd.concat({'Prepared':B.set_index(\"SUBJECTS\").SCORE,'Not Prepared':A.set_index(\"SUBJECTS\").SCORE},axis=1).plot.bar();\n",
    "plt.ylim(0,100)\n",
    "plt.ylabel('MARKS')\n",
    "plt.grid(axis='y')\n",
    "plt.title('COMPARING AVERAGE MARKS OF STUDENTS WHO DID NOT PREPARE Vs WHO PREPARED BEFORE EXAMS')\n"
   ]
  },
  {
   "cell_type": "markdown",
   "metadata": {},
   "source": [
    "# Boxplot of scores of students of different race/ethnicity "
   ]
  },
  {
   "cell_type": "code",
   "execution_count": 13,
   "metadata": {},
   "outputs": [
    {
     "data": {
      "application/vnd.jupyter.widget-view+json": {
       "model_id": "ea76f739154444b79289c44bd5aa7509",
       "version_major": 2,
       "version_minor": 0
      },
      "text/plain": [
       "interactive(children=(Dropdown(description='group', options=('group A', 'group B', 'group C', 'group D', 'grou…"
      ]
     },
     "metadata": {},
     "output_type": "display_data"
    },
    {
     "data": {
      "text/plain": [
       "<function __main__.boxplot_groupwise(group)>"
      ]
     },
     "execution_count": 13,
     "metadata": {},
     "output_type": "execute_result"
    }
   ],
   "source": [
    "def boxplot_groupwise(group):\n",
    "    \n",
    "    df1 = data[data['race/ethnicity'] == group]\n",
    "    df1.boxplot(column = ['math score', 'reading score', 'writing score'], patch_artist=True, showmeans=True)\n",
    "    plt.ylabel('Percentile')\n",
    "        \n",
    "    \n",
    "interact(boxplot_groupwise, group = ['group A', 'group B', 'group C', 'group D','group E'])"
   ]
  },
  {
   "cell_type": "markdown",
   "metadata": {},
   "source": [
    "# Comparision of average marks based on race/ethnicity"
   ]
  },
  {
   "cell_type": "code",
   "execution_count": 14,
   "metadata": {
    "scrolled": false
   },
   "outputs": [
    {
     "name": "stdout",
     "output_type": "stream",
     "text": [
      "Average mark of the students with Group A:- 62.99250936329588\n",
      "Average mark of the students with Group B:- 65.46842105263157\n",
      "Average mark of the students with Group C:- 67.13166144200626\n",
      "Average mark of the students with Group D:- 69.1793893129771\n",
      "Average mark of the students with Group E:- 72.75238095238096\n"
     ]
    },
    {
     "data": {
      "image/png": "[encoded data removed]",
      "text/plain": [
       "<Figure size 432x288 with 1 Axes>"
      ]
     },
     "metadata": {
      "needs_background": "light"
     },
     "output_type": "display_data"
    },
    {
     "data": {
      "image/png": "[encoded data removed]",
      "text/plain": [
       "<Figure size 432x288 with 1 Axes>"
      ]
     },
     "metadata": {
      "needs_background": "light"
     },
     "output_type": "display_data"
    },
    {
     "data": {
      "image/png": "[encoded data removed]",
      "text/plain": [
       "<Figure size 432x288 with 1 Axes>"
      ]
     },
     "metadata": {
      "needs_background": "light"
     },
     "output_type": "display_data"
    },
    {
     "data": {
      "image/png": "[encoded data removed]",
      "text/plain": [
       "<Figure size 432x288 with 1 Axes>"
      ]
     },
     "metadata": {
      "needs_background": "light"
     },
     "output_type": "display_data"
    }
   ],
   "source": [
    "dataGroupA = data[data[\"race/ethnicity\"] == \"group A\"].drop([\"gender\",\"lunch\",\"parental level of education\",\"test preparation\"],axis = 1)\n",
    "Amath =np.mean(dataGroupA[\"math score\"])\n",
    "Aread =np.mean(dataGroupA[\"reading score\"])\n",
    "Awrite=np.mean(dataGroupA[\"writing score\"])\n",
    "Atotal=(Aread+Amath+Awrite)/3\n",
    "\n",
    "dataGroupB = data[data[\"race/ethnicity\"] == \"group B\"].drop([\"gender\",\"lunch\",\"parental level of education\",\"test preparation\"],axis = 1)\n",
    "Bmath =np.mean(dataGroupB[\"math score\"])\n",
    "Bread =np.mean(dataGroupB[\"reading score\"])\n",
    "Bwrite=np.mean(dataGroupB[\"writing score\"])\n",
    "Btotal=(Bread+Bmath+Bwrite)/3\n",
    "\n",
    "dataGroupC = data[data[\"race/ethnicity\"] == \"group C\"].drop([\"gender\",\"lunch\",\"parental level of education\",\"test preparation\"],axis = 1)\n",
    "Cmath =np.mean(dataGroupC[\"math score\"])\n",
    "Cread =np.mean(dataGroupC[\"reading score\"])\n",
    "Cwrite=np.mean(dataGroupC[\"writing score\"])\n",
    "Ctotal=(Cread+Cmath+Cwrite)/3\n",
    "\n",
    "dataGroupD = data[data[\"race/ethnicity\"] == \"group D\"].drop([\"gender\",\"lunch\",\"parental level of education\",\"test preparation\"],axis = 1)\n",
    "Dmath =np.mean(dataGroupD[\"math score\"])\n",
    "Dread =np.mean(dataGroupD[\"reading score\"])\n",
    "Dwrite=np.mean(dataGroupD[\"writing score\"])\n",
    "Dtotal=(Dread+Dmath+Dwrite)/3\n",
    "\n",
    "dataGroupE = data[data[\"race/ethnicity\"] == \"group E\"].drop([\"gender\",\"lunch\",\"parental level of education\",\"test preparation\"],axis = 1)\n",
    "Emath =np.mean(dataGroupE[\"math score\"])\n",
    "Eread =np.mean(dataGroupE[\"reading score\"])\n",
    "Ewrite=np.mean(dataGroupE[\"writing score\"])\n",
    "Etotal=(Eread+Emath+Ewrite)/3\n",
    "\n",
    "df=pd.DataFrame({'Group':[\"Amath\",\"Bmath\",\"Cmath\",\"Dmath\",\"Emath\"],\"Math scores\":[Amath,Bmath,Cmath,Dmath,Emath]})\n",
    "df.plot.line(x='Group',y=\"Math scores\",rot=0,style='o')\n",
    "plt.ylabel('Marks')\n",
    "\n",
    "df=pd.DataFrame({'Group':[\"Aread\",\"Bread\",\"Cread\",\"Dread\",\"Eread\"],\"Reading score\":[Aread,Bread,Cread,Dread,Eread]})\n",
    "df.plot.line(x='Group',y=\"Reading score\",rot=0,style='o')\n",
    "plt.ylabel('Marks')\n",
    "\n",
    "df=pd.DataFrame({'Group':[\"Awrite\",\"Bwrite\",\"Cwrite\",\"Dwrite\",\"Ewrite\"],\"Writing score\":[Awrite,Bwrite,Cwrite,Dwrite,Ewrite]})\n",
    "df.plot.line(x='Group',y=\"Writing score\",rot=0,style='o')\n",
    "plt.ylabel('Marks')\n",
    "\n",
    "df=pd.DataFrame({'Group':[\"Atotal\",\"Btotal\",\"Ctotal\",\"Dtotal\",\"Etotal\"],\"Average score\":[Atotal,Btotal,Ctotal,Dtotal,Etotal]})\n",
    "df.plot.line(x='Group',y=\"Average score\",rot=0,style='o')\n",
    "plt.ylabel('Marks')\n",
    "\n",
    "print(\"Average mark of the students with Group A:-\",Atotal)\n",
    "print(\"Average mark of the students with Group B:-\",Btotal)\n",
    "print(\"Average mark of the students with Group C:-\",Ctotal)\n",
    "print(\"Average mark of the students with Group D:-\",Dtotal)\n",
    "print(\"Average mark of the students with Group E:-\",Etotal)\n"
   ]
  },
  {
   "cell_type": "markdown",
   "metadata": {},
   "source": [
    "# Conclusion \n",
    "\n",
    "Factors which contributes to test scores are:\n",
    "1. Race/ethinicity or the group from which the students belong.\n",
    "2. Parental level of education.\n",
    "3. The quality of lunch the students get.\n",
    "4. Test preparation status."
   ]
  },
  {
   "cell_type": "markdown",
   "metadata": {},
   "source": [
    "# Thank you"
   ]
  },
  {
   "cell_type": "code",
   "execution_count": null,
   "metadata": {},
   "outputs": [],
   "source": []
  }
 ],
 "metadata": {
  "kernelspec": {
   "display_name": "Python 3",
   "language": "python",
   "name": "python3"
  },
  "language_info": {
   "codemirror_mode": {
    "name": "ipython",
    "version": 3
   },
   "file_extension": ".py",
   "mimetype": "text/x-python",
   "name": "python",
   "nbconvert_exporter": "python",
   "pygments_lexer": "ipython3",
   "version": "3.7.3"
  }
 },
 "nbformat": 4,
 "nbformat_minor": 2
}
